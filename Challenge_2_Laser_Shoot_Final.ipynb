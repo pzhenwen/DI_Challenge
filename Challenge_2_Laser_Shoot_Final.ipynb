{
 "cells": [
  {
   "cell_type": "code",
   "execution_count": null,
   "metadata": {},
   "outputs": [],
   "source": []
  },
  {
   "cell_type": "code",
   "execution_count": null,
   "metadata": {},
   "outputs": [],
   "source": [
    "#Kernel function to calculate the distances for a given input combination in list\n",
    "\n",
    "def shoot_len(inlist):\n",
    "    V = []\n",
    "    for i in range(len(inlist)):\n",
    "        sublist = inlist[:i+1]\n",
    "        sublist.insert(0,inlist[i]) #put the target building on 0 position just as a beam stopper for general purpose\n",
    "        stop_pos = max([n for n, a in enumerate(sublist[:len(sublist)-1]) if a >= inlist[i]])\n",
    "        distance = len(sublist) - stop_pos -1\n",
    "        V.append(distance)\n",
    "        #print(inlist[:i+1],distance)\n",
    "    return V"
   ]
  },
  {
   "cell_type": "code",
   "execution_count": 31,
   "metadata": {},
   "outputs": [
    {
     "name": "stdout",
     "output_type": "stream",
     "text": [
      "6.166666666666667 1.3726099121798927\n"
     ]
    }
   ],
   "source": [
    "#Calculate the mean and standard deviation for vector [1,1,3,4]\n",
    "\n",
    "import itertools\n",
    "import math\n",
    "dis_sum_list = []\n",
    "for a in list(itertools.permutations([1,1,3,4])):\n",
    "    dis_sum = sum(shoot_len(list(a)))\n",
    "    dis_sum_list.append(dis_sum)\n",
    "mean_sum = sum(dis_sum_list)/len(dis_sum_list)\n",
    "std_sum = math.sqrt(sum([(val - mean_sum)**2 for val in dis_sum_list])/(len(dis_sum_list) - 1))\n",
    "print(mean_sum,std_sum)"
   ]
  },
  {
   "cell_type": "code",
   "execution_count": 7,
   "metadata": {},
   "outputs": [
    {
     "name": "stdout",
     "output_type": "stream",
     "text": [
      "22.218650793650795 4.501050912589881\n"
     ]
    }
   ],
   "source": [
    "#Calculate the mean and standard deviation for combinations of range 1 to 10\n",
    "\n",
    "dis_sum_list = []\n",
    "for a in list(itertools.permutations(range(1,11))):\n",
    "    dis_sum = sum(shoot_len(list(a)))\n",
    "    dis_sum_list.append(dis_sum)\n",
    "mean_sum = sum(dis_sum_list)/len(dis_sum_list)\n",
    "std_sum = math.sqrt(sum([(val - mean_sum)**2 for val in dis_sum_list])/(len(dis_sum_list) - 1))\n",
    "print(mean_sum,std_sum)"
   ]
  },
  {
   "cell_type": "code",
   "execution_count": null,
   "metadata": {},
   "outputs": [],
   "source": [
    "#Calculate the mean and standard deviation for combinations of range 1 to 20\n",
    "# The algorithm needs to be optimized since the total number of combination is 20! ~ 10^18 \n",
    "\n",
    "dis_sum_list_20 = []\n",
    "sum_dis_sum_20 = 0\n",
    "len_dis_sum_20 = 0\n",
    "iterator = itertools.permutations(range(1,21))\n",
    "for a in iterator:\n",
    "    dis_sum_20 = sum(shoot_len(list(a)))\n",
    "    sum_dis_sum_20 += dis_sum_20\n",
    "    len_dis_sum_20 +=1\n",
    "mean_sum_20 = sum_dis_sum_20/len_dis_sum_20\n",
    "print(mean_sum_20)"
   ]
  },
  {
   "cell_type": "code",
   "execution_count": null,
   "metadata": {},
   "outputs": [],
   "source": []
  }
 ],
 "metadata": {
  "kernelspec": {
   "display_name": "Python 3",
   "language": "python",
   "name": "python3"
  },
  "language_info": {
   "codemirror_mode": {
    "name": "ipython",
    "version": 3
   },
   "file_extension": ".py",
   "mimetype": "text/x-python",
   "name": "python",
   "nbconvert_exporter": "python",
   "pygments_lexer": "ipython3",
   "version": "3.7.4"
  }
 },
 "nbformat": 4,
 "nbformat_minor": 2
}
